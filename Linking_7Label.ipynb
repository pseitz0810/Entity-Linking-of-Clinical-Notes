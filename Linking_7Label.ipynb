{
 "cells": [
  {
   "cell_type": "code",
   "execution_count": 1,
   "id": "607beec2",
   "metadata": {},
   "outputs": [],
   "source": [
    "import pandas as pd\n",
    "import numpy as np\n",
    "import torch\n",
    "import json\n",
    "import dill as pickle\n",
    "from snomed_graph import *\n",
    "from sentence_transformers import InputExample, SentenceTransformer, losses, models, evaluation\n",
    "from itertools import combinations\n",
    "from torch.utils.data import DataLoader\n",
    "from gensim.models.keyedvectors import KeyedVectors"
   ]
  },
  {
   "cell_type": "code",
   "execution_count": 2,
   "id": "e6ffad11",
   "metadata": {},
   "outputs": [
    {
     "name": "stdout",
     "output_type": "stream",
     "text": [
      "SNOMED graph has 361179 vertices and 1179749 edges\n"
     ]
    }
   ],
   "source": [
    "SG = SnomedGraph.from_serialized('full_concept_graph.gml')"
   ]
  },
  {
   "cell_type": "code",
   "execution_count": 3,
   "id": "8a14a94e",
   "metadata": {},
   "outputs": [
    {
     "name": "stdout",
     "output_type": "stream",
     "text": [
      "219172\n"
     ]
    }
   ],
   "source": [
    "procedures = SG.get_descendants(71388002)\n",
    "procedures.add(SG.get_concept_details(71388002))\n",
    "\n",
    "body_structures = SG.get_descendants(123037004)\n",
    "body_structures.add(SG.get_concept_details(123037004))\n",
    "\n",
    "clinical_finding = SG.get_descendants(404684003)\n",
    "clinical_finding.add(SG.get_concept_details(404684003))\n",
    "\n",
    "all_concepts = procedures.union(body_structures)\n",
    "all_concepts.update(clinical_finding)\n",
    "print(len(all_concepts))\n",
    "# all_concepts\n",
    "concept_dict = {}\n",
    "concept_dict['procedures'] = procedures\n",
    "concept_dict['body_structures'] = body_structures\n",
    "concept_dict['clinical_finding'] = clinical_finding\n"
   ]
  },
  {
   "cell_type": "code",
   "execution_count": 4,
   "id": "d3178d63",
   "metadata": {},
   "outputs": [
    {
     "data": {
      "application/vnd.jupyter.widget-view+json": {
       "model_id": "5e7cfd5d016248a1b37d210960de798d",
       "version_major": 2,
       "version_minor": 0
      },
      "text/plain": [
       "  0%|          | 0/59091 [00:00<?, ?it/s]"
      ]
     },
     "metadata": {},
     "output_type": "display_data"
    },
    {
     "data": {
      "application/vnd.jupyter.widget-view+json": {
       "model_id": "5db92be2188946a2972acd5bae3c9080",
       "version_major": 2,
       "version_minor": 0
      },
      "text/plain": [
       "Epoch:   0%|          | 0/2 [00:00<?, ?it/s]"
      ]
     },
     "metadata": {},
     "output_type": "display_data"
    },
    {
     "data": {
      "application/vnd.jupyter.widget-view+json": {
       "model_id": "4db13df78a0641cabac351c004873120",
       "version_major": 2,
       "version_minor": 0
      },
      "text/plain": [
       "Iteration:   0%|          | 0/2130 [00:00<?, ?it/s]"
      ]
     },
     "metadata": {},
     "output_type": "display_data"
    },
    {
     "data": {
      "application/vnd.jupyter.widget-view+json": {
       "model_id": "07679f6f1cca4282908a9d0405e78ca4",
       "version_major": 2,
       "version_minor": 0
      },
      "text/plain": [
       "Iteration:   0%|          | 0/2130 [00:00<?, ?it/s]"
      ]
     },
     "metadata": {},
     "output_type": "display_data"
    },
    {
     "data": {
      "application/vnd.jupyter.widget-view+json": {
       "model_id": "30d780a0b2c942b593e8c9bba598d35f",
       "version_major": 2,
       "version_minor": 0
      },
      "text/plain": [
       "  0%|          | 0/41109 [00:00<?, ?it/s]"
      ]
     },
     "metadata": {},
     "output_type": "display_data"
    },
    {
     "data": {
      "application/vnd.jupyter.widget-view+json": {
       "model_id": "22e10df32966419a8927dc527fde86a4",
       "version_major": 2,
       "version_minor": 0
      },
      "text/plain": [
       "Epoch:   0%|          | 0/2 [00:00<?, ?it/s]"
      ]
     },
     "metadata": {},
     "output_type": "display_data"
    },
    {
     "data": {
      "application/vnd.jupyter.widget-view+json": {
       "model_id": "38ca0761610d486ea69ee5d3ffcfdf40",
       "version_major": 2,
       "version_minor": 0
      },
      "text/plain": [
       "Iteration:   0%|          | 0/1457 [00:00<?, ?it/s]"
      ]
     },
     "metadata": {},
     "output_type": "display_data"
    },
    {
     "data": {
      "application/vnd.jupyter.widget-view+json": {
       "model_id": "2b20ccf136644a7299b42531c080bebf",
       "version_major": 2,
       "version_minor": 0
      },
      "text/plain": [
       "Iteration:   0%|          | 0/1457 [00:00<?, ?it/s]"
      ]
     },
     "metadata": {},
     "output_type": "display_data"
    },
    {
     "data": {
      "application/vnd.jupyter.widget-view+json": {
       "model_id": "e303111196494fa4a6ac0e283ab8fa61",
       "version_major": 2,
       "version_minor": 0
      },
      "text/plain": [
       "  0%|          | 0/118972 [00:00<?, ?it/s]"
      ]
     },
     "metadata": {},
     "output_type": "display_data"
    },
    {
     "data": {
      "application/vnd.jupyter.widget-view+json": {
       "model_id": "ada13c748be84e66bf3f3bddae918513",
       "version_major": 2,
       "version_minor": 0
      },
      "text/plain": [
       "Epoch:   0%|          | 0/2 [00:00<?, ?it/s]"
      ]
     },
     "metadata": {},
     "output_type": "display_data"
    },
    {
     "data": {
      "application/vnd.jupyter.widget-view+json": {
       "model_id": "00406ba5b1884b199cf1074e99b126e0",
       "version_major": 2,
       "version_minor": 0
      },
      "text/plain": [
       "Iteration:   0%|          | 0/5001 [00:00<?, ?it/s]"
      ]
     },
     "metadata": {},
     "output_type": "display_data"
    },
    {
     "data": {
      "application/vnd.jupyter.widget-view+json": {
       "model_id": "07e7aad0dd1049f09d1403f3359247da",
       "version_major": 2,
       "version_minor": 0
      },
      "text/plain": [
       "Iteration:   0%|          | 0/5001 [00:00<?, ?it/s]"
      ]
     },
     "metadata": {},
     "output_type": "display_data"
    }
   ],
   "source": [
    "device = \"cuda:0\" if torch.cuda.is_available() else \"cpu\"\n",
    "kb_embedding_model_id = (\"sentence-transformers/all-MiniLM-L6-v2\")\n",
    "\n",
    "for i in list(concept_dict.keys()):\n",
    "    kb_model = SentenceTransformer(kb_embedding_model_id,device=device)\n",
    "\n",
    "    kb_sft_examples = []\n",
    "    sentences1 = []\n",
    "    sentences2 = []\n",
    "    labels = []\n",
    "    for concept in tqdm(concept_dict[i]):\n",
    "        #Add synonym pairings\n",
    "        for syn1, syn2 in combinations(SG.get_concept_details(concept.sctid).synonyms, 2):\n",
    "            kb_sft_examples.append(InputExample(texts=[syn1, syn2], label=1))\n",
    "            sentences1.append(syn1)\n",
    "            sentences2.append(syn2)\n",
    "            labels.append(1)\n",
    "\n",
    "        # #Add parent pairings\n",
    "        # for p in SG.get_parents(concept.sctid):\n",
    "        #     kb_sft_examples.append(InputExample(texts=[p.fsn.split('(')[0], SG.get_concept_details(concept.sctid).fsn.split('(')[0]], label=1))\n",
    "        \n",
    "        # #Add ancestor pairings\n",
    "        # for a in SG.get_ancestors(concept.sctid):\n",
    "        #     kb_sft_examples.append(InputExample(texts=[a.fsn.split('(')[0], SG.get_concept_details(concept.sctid).fsn.split('(')[0]], label=1))\n",
    "\n",
    "    train_dataloader = DataLoader(kb_sft_examples, shuffle=True, batch_size=32)\n",
    "    train_loss = losses.ContrastiveLoss(kb_model)\n",
    "    kb_model.fit(\n",
    "        [(train_dataloader, train_loss)],\n",
    "        epochs=2,\n",
    "    )\n",
    "\n",
    "    kb_model.save(\"kb_model_\"+i)"
   ]
  },
  {
   "cell_type": "code",
   "execution_count": 5,
   "id": "aef79e8c",
   "metadata": {},
   "outputs": [],
   "source": [
    "procedures_kb_model = SentenceTransformer('kb_model_procedures')\n",
    "body_structures_kb_model = SentenceTransformer('kb_model_body_structures')\n",
    "clinical_finding_kb_model = SentenceTransformer('kb_model_clinical_finding')"
   ]
  },
  {
   "cell_type": "code",
   "execution_count": 6,
   "id": "221184e9",
   "metadata": {},
   "outputs": [],
   "source": [
    "class Linker:\n",
    "    def __init__(self, encoder, context_window_width=0):\n",
    "        self.encoder = encoder\n",
    "        self.entity_index = KeyedVectors(self.encoder[1].word_embedding_dimension)\n",
    "        self.context_index = dict()\n",
    "        self.history = dict()\n",
    "        self.context_window_width = context_window_width\n",
    "\n",
    "    def add_context(self, row):\n",
    "        window_start = max(0, row.start - self.context_window_width)\n",
    "        window_end = min(row.end + self.context_window_width, len(row.text))\n",
    "        return row.text[window_start:window_end]\n",
    "\n",
    "    def add_entity(self, row):\n",
    "        return row.text[row.start : row.end]\n",
    "\n",
    "    def fit(self, df=None, snomed_concepts=None):\n",
    "        # Create a map from the entities to the concepts and contexts in which they appear\n",
    "        if df is not None:\n",
    "            for row in df.itertuples():\n",
    "                entity = self.add_entity(row)\n",
    "                context = self.add_context(row)\n",
    "                map_ = self.history.get(entity, dict())\n",
    "                contexts = map_.get(row.concept_id, list())\n",
    "                contexts.append(context)\n",
    "                map_[row.concept_id] = contexts\n",
    "                self.history[entity] = map_\n",
    "\n",
    "        # Add SNOMED CT codes for lookup\n",
    "        if snomed_concepts is not None:\n",
    "            for c in snomed_concepts:\n",
    "                # for syn in c.synonyms:\n",
    "                for syn in SG.get_concept_details(c.sctid).synonyms:\n",
    "                    map_ = self.history.get(syn, dict())\n",
    "                    contexts = map_.get(c.sctid, list())\n",
    "                    contexts.append(syn)\n",
    "                    map_[c.sctid] = contexts\n",
    "                    self.history[syn] = map_\n",
    "\n",
    "        # Create indexes to help disambiguate entities by their contexts\n",
    "        for entity, map_ in tqdm(self.history.items()):\n",
    "            keys = [\n",
    "                (concept_id, occurance)\n",
    "                for concept_id, contexts in map_.items()\n",
    "                for occurance, context in enumerate(contexts)\n",
    "            ]\n",
    "            contexts = [context for contexts in map_.values() for context in contexts]\n",
    "            vectors = self.encoder.encode(contexts)\n",
    "            index = KeyedVectors(self.encoder[1].word_embedding_dimension)\n",
    "            index.add_vectors(keys, vectors)\n",
    "            self.context_index[entity] = index\n",
    "\n",
    "        # Now create the top-level entity index\n",
    "        keys = list(self.history.keys())\n",
    "        vectors = self.encoder.encode(keys)\n",
    "        self.entity_index.add_vectors(keys, vectors)\n",
    "\n",
    "    def link(self, row):\n",
    "        entity = self.add_entity(row)\n",
    "        context = self.add_context(row)\n",
    "        vec = self.encoder.encode(entity)\n",
    "        #Map to known entity\n",
    "        nearest_entity = self.entity_index.most_similar(vec, topn=1)[0][0]\n",
    "        index = self.context_index.get(nearest_entity, None)\n",
    "\n",
    "        #When would it ever not return index? If nearest_entity not found in train set?\n",
    "        if index:\n",
    "            vec = self.encoder.encode(context)\n",
    "            #Within givin known entity, if multiple SCTIDs associated, then get SCTID with closest context\n",
    "            key, score = index.most_similar(vec, topn=1)[0]\n",
    "            sctid, _ = key\n",
    "            return sctid\n",
    "        else:\n",
    "            return None"
   ]
  },
  {
   "cell_type": "code",
   "execution_count": 7,
   "id": "dc6770eb",
   "metadata": {},
   "outputs": [
    {
     "name": "stdout",
     "output_type": "stream",
     "text": [
      "Train notes: 184 : # of Annotations: (46955, 4)\n"
     ]
    }
   ],
   "source": [
    "all_notes = pd.read_csv('mimic-iv_notes_training_set.csv',index_col='note_id')\n",
    "all_annotations = pd.read_csv('train_annotations.csv',index_col='note_id')\n",
    "\n",
    "rng = np.random.default_rng(seed=42)\n",
    "shuffled_indices = rng.permutation(len(all_notes))\n",
    "\n",
    "train_notes = all_notes.iloc[shuffled_indices[:184],:] #~90%\n",
    "train_notes_with_annotations = pd.merge(left=train_notes,right=all_annotations,how='left',left_index=True,right_index=True)\n",
    "\n",
    "print('Train notes:',len(train_notes),': # of Annotations:',train_notes_with_annotations.shape)"
   ]
  },
  {
   "cell_type": "code",
   "execution_count": 8,
   "id": "2f823c18",
   "metadata": {},
   "outputs": [
    {
     "data": {
      "text/html": [
       "<div>\n",
       "<style scoped>\n",
       "    .dataframe tbody tr th:only-of-type {\n",
       "        vertical-align: middle;\n",
       "    }\n",
       "\n",
       "    .dataframe tbody tr th {\n",
       "        vertical-align: top;\n",
       "    }\n",
       "\n",
       "    .dataframe thead th {\n",
       "        text-align: right;\n",
       "    }\n",
       "</style>\n",
       "<table border=\"1\" class=\"dataframe\">\n",
       "  <thead>\n",
       "    <tr style=\"text-align: right;\">\n",
       "      <th></th>\n",
       "      <th>text</th>\n",
       "      <th>start</th>\n",
       "      <th>end</th>\n",
       "      <th>concept_id</th>\n",
       "      <th>concept_fsn</th>\n",
       "      <th>snomed_base</th>\n",
       "    </tr>\n",
       "    <tr>\n",
       "      <th>note_id</th>\n",
       "      <th></th>\n",
       "      <th></th>\n",
       "      <th></th>\n",
       "      <th></th>\n",
       "      <th></th>\n",
       "      <th></th>\n",
       "    </tr>\n",
       "  </thead>\n",
       "  <tbody>\n",
       "  </tbody>\n",
       "</table>\n",
       "</div>"
      ],
      "text/plain": [
       "Empty DataFrame\n",
       "Columns: [text, start, end, concept_id, concept_fsn, snomed_base]\n",
       "Index: []"
      ]
     },
     "execution_count": 8,
     "metadata": {},
     "output_type": "execute_result"
    }
   ],
   "source": [
    "train_notes_with_annotations['concept_fsn'] = train_notes_with_annotations['concept_id'].map(lambda x: SG.get_concept_details(x).fsn)\n",
    "train_notes_with_annotations = train_notes_with_annotations.reset_index()\n",
    "\n",
    "main_concepts = ['body structure','procedure','finding']\n",
    "\n",
    "for index,row in train_notes_with_annotations.iterrows():\n",
    "    ancestors = SG.get_ancestors(row['concept_id'])\n",
    "    ancestors.add(SG.get_full_concept(row['concept_id']))\n",
    "    \n",
    "    for a in ancestors:\n",
    "        for c in main_concepts:\n",
    "            if re.search(r'\\(([\\w\\s]+)\\)',a.fsn) and c == re.search(r'\\(([\\w\\s]+)\\)',a.fsn).groups()[0]:\n",
    "                train_notes_with_annotations.loc[index,'snomed_base'] = re.search(r'\\(([\\w\\s]+)\\)',a.fsn).groups()[0]\n",
    "                \n",
    "train_notes_with_annotations = train_notes_with_annotations.set_index('note_id')\n",
    "train_notes_with_annotations.loc[(train_notes_with_annotations.index == '10513485-DS-7') & (train_notes_with_annotations['snomed_base'].isna()),:]"
   ]
  },
  {
   "cell_type": "code",
   "execution_count": 9,
   "id": "cc67c20b",
   "metadata": {},
   "outputs": [],
   "source": [
    "clinical_finding_linker_training_df = train_notes_with_annotations.loc[train_notes_with_annotations.snomed_base == 'finding',:]\n",
    "body_structures_linker_training_df = train_notes_with_annotations.loc[train_notes_with_annotations.snomed_base == 'body structure',:]\n",
    "procedures_linker_training_df = train_notes_with_annotations.loc[train_notes_with_annotations.snomed_base == 'procedure',:]"
   ]
  },
  {
   "cell_type": "code",
   "execution_count": 10,
   "id": "c1e9a8d4",
   "metadata": {},
   "outputs": [
    {
     "data": {
      "application/vnd.jupyter.widget-view+json": {
       "model_id": "d4ef914c532d4d2280c550fd8f1a0179",
       "version_major": 2,
       "version_minor": 0
      },
      "text/plain": [
       "  0%|          | 0/101550 [00:00<?, ?it/s]"
      ]
     },
     "metadata": {},
     "output_type": "display_data"
    },
    {
     "data": {
      "application/vnd.jupyter.widget-view+json": {
       "model_id": "e5249160dea14bdf929b6c5459d9f70f",
       "version_major": 2,
       "version_minor": 0
      },
      "text/plain": [
       "  0%|          | 0/73171 [00:00<?, ?it/s]"
      ]
     },
     "metadata": {},
     "output_type": "display_data"
    },
    {
     "data": {
      "application/vnd.jupyter.widget-view+json": {
       "model_id": "86473b9569464c379ec50d83759f9cd1",
       "version_major": 2,
       "version_minor": 0
      },
      "text/plain": [
       "  0%|          | 0/212378 [00:00<?, ?it/s]"
      ]
     },
     "metadata": {},
     "output_type": "display_data"
    }
   ],
   "source": [
    "procedures_linker = Linker(procedures_kb_model, 12)\n",
    "procedures_linker.fit(procedures_linker_training_df, procedures)\n",
    "\n",
    "body_structures_linker = Linker(body_structures_kb_model, 12)\n",
    "body_structures_linker.fit(body_structures_linker_training_df, body_structures)\n",
    "\n",
    "clinical_finding_linker = Linker(clinical_finding_kb_model, 12)\n",
    "clinical_finding_linker.fit(clinical_finding_linker_training_df, clinical_finding)"
   ]
  },
  {
   "cell_type": "code",
   "execution_count": 11,
   "id": "9df7a19b",
   "metadata": {},
   "outputs": [],
   "source": [
    "with open(\"procedures_linker.pickle\", \"wb\") as f:\n",
    "    pickle.dump(procedures_linker, f)\n",
    "\n",
    "with open(\"body_structures_linker.pickle\", \"wb\") as f:\n",
    "    pickle.dump(body_structures_linker, f)\n",
    "\n",
    "with open(\"clinical_finding_linker.pickle\", \"wb\") as f:\n",
    "    pickle.dump(clinical_finding_linker, f)"
   ]
  },
  {
   "cell_type": "code",
   "execution_count": 4,
   "id": "fae3c4b6",
   "metadata": {},
   "outputs": [],
   "source": [
    "# with open(\"procedures_linker.pickle\", \"rb\") as f:\n",
    "#     procedures_linker = pickle.load(f)\n",
    "\n",
    "# with open(\"body_structures_linker.pickle\", \"rb\") as f:\n",
    "#     body_structures_linker = pickle.load(f)\n",
    "\n",
    "# with open(\"clinical_finding_linker.pickle\", \"rb\") as f:\n",
    "#     clinical_finding_linker = pickle.load(f)"
   ]
  },
  {
   "cell_type": "code",
   "execution_count": 12,
   "id": "7c4d82ec",
   "metadata": {},
   "outputs": [
    {
     "data": {
      "application/vnd.jupyter.widget-view+json": {
       "model_id": "b4a39b94c13c421480a776dccc234e9f",
       "version_major": 2,
       "version_minor": 0
      },
      "text/plain": [
       "0it [00:00, ?it/s]"
      ]
     },
     "metadata": {},
     "output_type": "display_data"
    },
    {
     "data": {
      "text/html": [
       "<div>\n",
       "<style scoped>\n",
       "    .dataframe tbody tr th:only-of-type {\n",
       "        vertical-align: middle;\n",
       "    }\n",
       "\n",
       "    .dataframe tbody tr th {\n",
       "        vertical-align: top;\n",
       "    }\n",
       "\n",
       "    .dataframe thead th {\n",
       "        text-align: right;\n",
       "    }\n",
       "</style>\n",
       "<table border=\"1\" class=\"dataframe\">\n",
       "  <thead>\n",
       "    <tr style=\"text-align: right;\">\n",
       "      <th></th>\n",
       "      <th>note_id</th>\n",
       "      <th>start</th>\n",
       "      <th>end</th>\n",
       "      <th>main_concept</th>\n",
       "      <th>concept_id</th>\n",
       "      <th>text</th>\n",
       "    </tr>\n",
       "  </thead>\n",
       "  <tbody>\n",
       "    <tr>\n",
       "      <th>0</th>\n",
       "      <td>14652764-DS-17</td>\n",
       "      <td>178</td>\n",
       "      <td>180</td>\n",
       "      <td>3</td>\n",
       "      <td>13920009</td>\n",
       "      <td>\\nName:  ___                 Unit No:   ___\\n...</td>\n",
       "    </tr>\n",
       "    <tr>\n",
       "      <th>1</th>\n",
       "      <td>14652764-DS-17</td>\n",
       "      <td>199</td>\n",
       "      <td>221</td>\n",
       "      <td>4</td>\n",
       "      <td>419511003</td>\n",
       "      <td>\\nName:  ___                 Unit No:   ___\\n...</td>\n",
       "    </tr>\n",
       "    <tr>\n",
       "      <th>2</th>\n",
       "      <td>14652764-DS-17</td>\n",
       "      <td>259</td>\n",
       "      <td>277</td>\n",
       "      <td>4</td>\n",
       "      <td>64766004</td>\n",
       "      <td>\\nName:  ___                 Unit No:   ___\\n...</td>\n",
       "    </tr>\n",
       "    <tr>\n",
       "      <th>3</th>\n",
       "      <td>14652764-DS-17</td>\n",
       "      <td>322</td>\n",
       "      <td>340</td>\n",
       "      <td>2</td>\n",
       "      <td>47092002</td>\n",
       "      <td>\\nName:  ___                 Unit No:   ___\\n...</td>\n",
       "    </tr>\n",
       "    <tr>\n",
       "      <th>4</th>\n",
       "      <td>14652764-DS-17</td>\n",
       "      <td>406</td>\n",
       "      <td>425</td>\n",
       "      <td>2</td>\n",
       "      <td>43075005</td>\n",
       "      <td>\\nName:  ___                 Unit No:   ___\\n...</td>\n",
       "    </tr>\n",
       "    <tr>\n",
       "      <th>...</th>\n",
       "      <td>...</td>\n",
       "      <td>...</td>\n",
       "      <td>...</td>\n",
       "      <td>...</td>\n",
       "      <td>...</td>\n",
       "      <td>...</td>\n",
       "    </tr>\n",
       "    <tr>\n",
       "      <th>2018</th>\n",
       "      <td>15906604-DS-2</td>\n",
       "      <td>5401</td>\n",
       "      <td>5413</td>\n",
       "      <td>3</td>\n",
       "      <td>128139000</td>\n",
       "      <td>\\nName:  ___                     Unit No:   _...</td>\n",
       "    </tr>\n",
       "    <tr>\n",
       "      <th>2019</th>\n",
       "      <td>15906604-DS-2</td>\n",
       "      <td>5421</td>\n",
       "      <td>5428</td>\n",
       "      <td>5</td>\n",
       "      <td>71616004</td>\n",
       "      <td>\\nName:  ___                     Unit No:   _...</td>\n",
       "    </tr>\n",
       "    <tr>\n",
       "      <th>2020</th>\n",
       "      <td>15906604-DS-2</td>\n",
       "      <td>5433</td>\n",
       "      <td>5442</td>\n",
       "      <td>5</td>\n",
       "      <td>771314001</td>\n",
       "      <td>\\nName:  ___                     Unit No:   _...</td>\n",
       "    </tr>\n",
       "    <tr>\n",
       "      <th>2021</th>\n",
       "      <td>15906604-DS-2</td>\n",
       "      <td>5511</td>\n",
       "      <td>5523</td>\n",
       "      <td>3</td>\n",
       "      <td>128139000</td>\n",
       "      <td>\\nName:  ___                     Unit No:   _...</td>\n",
       "    </tr>\n",
       "    <tr>\n",
       "      <th>2022</th>\n",
       "      <td>15906604-DS-2</td>\n",
       "      <td>5544</td>\n",
       "      <td>5556</td>\n",
       "      <td>2</td>\n",
       "      <td>737470001</td>\n",
       "      <td>\\nName:  ___                     Unit No:   _...</td>\n",
       "    </tr>\n",
       "  </tbody>\n",
       "</table>\n",
       "<p>2023 rows × 6 columns</p>\n",
       "</div>"
      ],
      "text/plain": [
       "             note_id start   end main_concept concept_id  \\\n",
       "0     14652764-DS-17   178   180            3   13920009   \n",
       "1     14652764-DS-17   199   221            4  419511003   \n",
       "2     14652764-DS-17   259   277            4   64766004   \n",
       "3     14652764-DS-17   322   340            2   47092002   \n",
       "4     14652764-DS-17   406   425            2   43075005   \n",
       "...              ...   ...   ...          ...        ...   \n",
       "2018   15906604-DS-2  5401  5413            3  128139000   \n",
       "2019   15906604-DS-2  5421  5428            5   71616004   \n",
       "2020   15906604-DS-2  5433  5442            5  771314001   \n",
       "2021   15906604-DS-2  5511  5523            3  128139000   \n",
       "2022   15906604-DS-2  5544  5556            2  737470001   \n",
       "\n",
       "                                                   text  \n",
       "0      \\nName:  ___                 Unit No:   ___\\n...  \n",
       "1      \\nName:  ___                 Unit No:   ___\\n...  \n",
       "2      \\nName:  ___                 Unit No:   ___\\n...  \n",
       "3      \\nName:  ___                 Unit No:   ___\\n...  \n",
       "4      \\nName:  ___                 Unit No:   ___\\n...  \n",
       "...                                                 ...  \n",
       "2018   \\nName:  ___                     Unit No:   _...  \n",
       "2019   \\nName:  ___                     Unit No:   _...  \n",
       "2020   \\nName:  ___                     Unit No:   _...  \n",
       "2021   \\nName:  ___                     Unit No:   _...  \n",
       "2022   \\nName:  ___                     Unit No:   _...  \n",
       "\n",
       "[2023 rows x 6 columns]"
      ]
     },
     "execution_count": 12,
     "metadata": {},
     "output_type": "execute_result"
    }
   ],
   "source": [
    "with open('7label_pred.json') as f:\n",
    "    data = f.read()\n",
    "# print(data)\n",
    "\n",
    "all_notes = pd.read_csv('mimic-iv_notes_training_set.csv',index_col='note_id')\n",
    "all_annotations = pd.read_csv('train_annotations.csv',index_col='note_id')\n",
    "\n",
    "annotations_7label = json.loads(json.loads(data))\n",
    "\n",
    "df_7label = pd.DataFrame(columns=['note_id','start','end','main_concept','concept_id'])\n",
    "for note in annotations_7label:\n",
    "    for annotation in annotations_7label[note]:\n",
    "#         print(annotation,list(annotation.values())[0][0])\n",
    "        df_7label.loc[len(df_7label),:] = [note,list(annotation.values())[0][1][0],list(annotation.values())[0][1][1],list(annotation.values())[0][0],-1]\n",
    "\n",
    "df_7label = pd.merge(left=df_7label,right=all_notes[['text']],how='left',left_on='note_id',right_index=True)\n",
    "\n",
    "for _,row in tqdm(df_7label.iterrows()):\n",
    "#     print(row)\n",
    "    if row.main_concept in [1,2]:\n",
    "        df_7label.loc[_,'concept_id'] = procedures_linker.link(row)\n",
    "    elif row.main_concept in [3,4]:\n",
    "        df_7label.loc[_,'concept_id'] = clinical_finding_linker.link(row)\n",
    "    elif row.main_concept in [5,6]:\n",
    "        df_7label.loc[_,'concept_id'] = body_structures_linker.link(row)\n",
    "\n",
    "df_7label"
   ]
  },
  {
   "cell_type": "code",
   "execution_count": 16,
   "id": "92ea25bf",
   "metadata": {},
   "outputs": [],
   "source": [
    "# df_3label.set_index('note_id')[['start','end','concept_id']].to_csv('3label_res_embedding_with_ancestors.csv')\n",
    "df_7label.set_index('note_id')[['start','end','concept_id']].to_csv('7label_res_embedding.csv')"
   ]
  },
  {
   "cell_type": "code",
   "execution_count": 15,
   "id": "0f6739cc",
   "metadata": {},
   "outputs": [
    {
     "data": {
      "text/plain": [
       "array(['14652764-DS-17', '16441224-DS-19', '18914188-DS-20',\n",
       "       '10797747-DS-20', '16464652-DS-17', '19476699-DS-25',\n",
       "       '11436844-DS-4', '13397956-DS-5', '19442119-DS-15',\n",
       "       '15906604-DS-2'], dtype=object)"
      ]
     },
     "execution_count": 15,
     "metadata": {},
     "output_type": "execute_result"
    }
   ],
   "source": [
    "df_7label['note_id'].unique()"
   ]
  }
 ],
 "metadata": {
  "kernelspec": {
   "display_name": "pseitz_capstone_2",
   "language": "python",
   "name": "pseitz_capstone_2"
  },
  "language_info": {
   "codemirror_mode": {
    "name": "ipython",
    "version": 3
   },
   "file_extension": ".py",
   "mimetype": "text/x-python",
   "name": "python",
   "nbconvert_exporter": "python",
   "pygments_lexer": "ipython3",
   "version": "3.10.11"
  }
 },
 "nbformat": 4,
 "nbformat_minor": 5
}
